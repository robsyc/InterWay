{
 "cells": [
  {
   "cell_type": "code",
   "execution_count": 1,
   "metadata": {},
   "outputs": [
    {
     "data": {
      "text/plain": [
       "['uniprot-all.fasta', 'script.py', 'scripty.ipynb']"
      ]
     },
     "execution_count": 1,
     "metadata": {},
     "output_type": "execute_result"
    }
   ],
   "source": [
    "import os\n",
    "os.listdir()"
   ]
  },
  {
   "cell_type": "code",
   "execution_count": 11,
   "metadata": {},
   "outputs": [],
   "source": [
    "import sys\n",
    "from Bio import SeqIO\n",
    "from Bio.SeqUtils.ProtParam import ProteinAnalysis\n",
    "import re\n",
    "\n",
    "# check if command line arguments are provided\n",
    "if len(sys.argv) < 2:\n",
    "    print(\"USAGE: python3 related_IEP_MW.py <IEP lower limit (pH)> <IEP upper limit (pH)> <MW lower limit (Da)> <MW upper limit (Da)>\")\n",
    "    sys.exit(1)\n",
    "else:\n",
    "    # store command line arguments\n",
    "    IEP_lower, IEP_upper = float(sys.argv[1]), float(sys.argv[2])\n",
    "    MW_lower, MW_upper = float(sys.argv[3]), float(sys.argv[4])\n",
    "\n",
    "# regerx to catch ambiguous protein sequences\n",
    "pattern = re.compile(r\"'[XBZJ]' is not a valid unambiguous letter for protein\")\n",
    "\n",
    "# parse protein sequences in FASTA file\n",
    "for seq_record in SeqIO.parse(\"./data/uniprot-all.fasta\", \"fasta\"):\n",
    "    descr = seq_record.description\n",
    "    try:\n",
    "        # calculate molecular weight & isoelectric point\n",
    "        protAnalysis = ProteinAnalysis(str(seq_record.seq))\n",
    "        molWeight = protAnalysis.molecular_weight()\n",
    "        isoPoint = protAnalysis.isoelectric_point()\n",
    "\n",
    "    except ValueError as error:\n",
    "        # skip unambiguous protein sequences\n",
    "        if pattern.match(str(error)):\n",
    "            continue\n",
    "        else:\n",
    "            raise\n",
    "    \n",
    "    # filter and return results\n",
    "    if (MW_lower <= molWeight <= MW_upper) and (IEP_lower <= isoPoint <= IEP_upper):\n",
    "        print(\n",
    "            \"Protein: {}\\nMolecular Weight: {}\\tIsoelectric Point: {}\\n\".format(\n",
    "                descr, round(molWeight, 3), round(isoPoint, 3)))"
   ]
  },
  {
   "cell_type": "code",
   "execution_count": 4,
   "metadata": {},
   "outputs": [
    {
     "data": {
      "text/plain": [
       "SeqRecord(seq=Seq('MTMDKSELVQKAKLAEQAERYDDMAAAMKAVTEQGHELSNEERNLLSVAYKNVV...GEN'), id='sp|P31946|1433B_HUMAN', name='sp|P31946|1433B_HUMAN', description='sp|P31946|1433B_HUMAN 14-3-3 protein beta/alpha OS=Homo sapiens GN=YWHAB PE=1 SV=3', dbxrefs=[])"
      ]
     },
     "execution_count": 4,
     "metadata": {},
     "output_type": "execute_result"
    }
   ],
   "source": [
    "# regex that matches: 'X' is not a valid unambiguous letter for protein but X can be (X,B,Z,J)\n",
    "\n",
    "import re\n",
    "pattern = re.compile(r\"'[XBZJ]' is not a valid unambiguous letter for protein\")"
   ]
  },
  {
   "cell_type": "code",
   "execution_count": null,
   "metadata": {},
   "outputs": [],
   "source": []
  }
 ],
 "metadata": {
  "kernelspec": {
   "display_name": "base",
   "language": "python",
   "name": "python3"
  },
  "language_info": {
   "codemirror_mode": {
    "name": "ipython",
    "version": 3
   },
   "file_extension": ".py",
   "mimetype": "text/x-python",
   "name": "python",
   "nbconvert_exporter": "python",
   "pygments_lexer": "ipython3",
   "version": "3.9.12 (main, Apr  5 2022, 06:56:58) \n[GCC 7.5.0]"
  },
  "orig_nbformat": 4,
  "vscode": {
   "interpreter": {
    "hash": "647b7bb0e2c7b48f38d1d074e96c0b89f6a9ad4582aa349d5754d73cf165f97e"
   }
  }
 },
 "nbformat": 4,
 "nbformat_minor": 2
}
