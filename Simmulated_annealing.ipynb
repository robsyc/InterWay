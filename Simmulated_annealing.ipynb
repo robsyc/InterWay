{
 "cells": [
  {
   "cell_type": "markdown",
   "metadata": {},
   "source": [
    "# Simmulated annealing"
   ]
  },
  {
   "cell_type": "code",
   "execution_count": 59,
   "metadata": {},
   "outputs": [],
   "source": [
    "import networkx as nx\n",
    "import pickle\n",
    "from networkx.utils import open_file\n",
    "import numpy as np\n",
    "import random"
   ]
  },
  {
   "cell_type": "code",
   "execution_count": 60,
   "metadata": {},
   "outputs": [],
   "source": [
    "# Load the graph\n",
    "@open_file(0, mode=\"rb\")\n",
    "def pickle_load(path):\n",
    "    return pickle.load(path)\n",
    "\n",
    "G = pickle_load(\"./data/graph.gpickle\")"
   ]
  },
  {
   "cell_type": "markdown",
   "metadata": {},
   "source": [
    "### Hyperparameters"
   ]
  },
  {
   "cell_type": "code",
   "execution_count": 61,
   "metadata": {},
   "outputs": [],
   "source": [
    "# Interrail travel days constraints\n",
    "travel_days = 4\n",
    "travel_day_max_time = 9 *60\n",
    "\n",
    "# Travel destination constraints\n",
    "total_travel_days = 12\n",
    "start = \"Brussels\"\n",
    "end = \"Belgrade\"\n",
    "\n",
    "# start = \"Kiruna\"\n",
    "# end = \"Berlin\"\n",
    "\n",
    "# Travel constraints\n",
    "city_weights_user = {\n",
    "    \"Amsterdam\": 4,\n",
    "    \"Berlin\": 4,\n",
    "    \"Stockholm\":3,\n",
    "    \"Wien\": 3,\n",
    "    \"Krakow\": 3,\n",
    "    #\"Praha\": 6,\n",
    "    #\"Krakow\": 5\n",
    "}\n",
    "city_weights_base = 1\n",
    "\n",
    "# add \"score\" feature to nodes\n",
    "for city, data in G.nodes(data=True):\n",
    "    if city in city_weights_user:\n",
    "        G.nodes[city][\"score\"] = city_weights_user[city]\n",
    "    elif city == start:\n",
    "        G.nodes[city][\"score\"] = 0\n",
    "    else:\n",
    "        G.nodes[city][\"score\"] = city_weights_base"
   ]
  },
  {
   "cell_type": "markdown",
   "metadata": {},
   "source": [
    "### Pseudocode  Simulated Annealing:\n",
    "\n",
    "\n",
    ">```\n",
    ">Simulated annealing (Tmax, Tmin, r, NT):\n",
    ">    choose initial best_path that starts in start_city and ends in end_city\n",
    ">    T := Tmax\n",
    ">    while T > Tmin\n",
    ">        repeat NT times:\n",
    ">            neighbor_paths := generate_neighbor_paths(best_path)    \n",
    ">            for neighbor_path in neighbor_paths:\n",
    ">               if score(neighbor_path) > score(best_path) then accept \n",
    ">                   best_path := neighbor_path\n",
    ">               else accept with probability exp( (f(x) - f(xn))/T*5)\n",
    ">                   best_path := neighbor_path\n",
    ">               T := T * r\n",
    ">    return best_path  \n",
    ">```"
   ]
  },
  {
   "cell_type": "markdown",
   "metadata": {},
   "source": [
    "### Find initial path \n",
    "\n",
    "The initial path is based on the shortest route possible from start city to end city and has to be  of lenght: \n",
    "\n",
    "        visited_cities = travel_days + 1 "
   ]
  },
  {
   "cell_type": "code",
   "execution_count": 62,
   "metadata": {},
   "outputs": [
    {
     "name": "stdout",
     "output_type": "stream",
     "text": [
      "['Brussels', 'Köln', 'Wien', 'Budapest', 'Belgrade']\n"
     ]
    }
   ],
   "source": [
    "def find_single_path(G, source, target, travel_days, travel_day_max_time):\n",
    "    simple_paths = nx.simple_paths.shortest_simple_paths(G, source=source, target=target, weight=\"time\")\n",
    "\n",
    "    for simple_path in simple_paths:\n",
    "        if len(simple_path) >= travel_days + 1:\n",
    "            # check if the path is feasible within the time travel_days * travel_day_max_time   \n",
    "            total_time = sum(min(G.edges[simple_path[i], simple_path[i+1]][\"time\"], travel_day_max_time) for i in range(len(simple_path)-1)) \n",
    "            if total_time <= travel_day_max_time * travel_days:\n",
    "                # make sure that simple_path has length of travel_days\n",
    "                # indices = np.linspace(0,len(simple_path)-1, travel_days+1, dtype=int)\n",
    "                initial_path = [simple_path[0]] \n",
    "                middle_ind = sorted(random.sample(range(1, len(simple_path)-1), travel_days-1))\n",
    "                initial_path.extend(simple_path[i] for i in middle_ind)\n",
    "                initial_path.append(simple_path[-1])\n",
    "                return initial_path\n",
    "            else:\n",
    "                return False\n",
    "\n",
    "\n",
    "path = find_single_path(G, start, end, travel_days, travel_day_max_time)  \n",
    "print(path)  "
   ]
  },
  {
   "cell_type": "markdown",
   "metadata": {},
   "source": [
    "### Define neighbors of a path\n",
    "\n",
    "A neighbor_path is a path that takes one random node in the path and swaps that node with all its neighbor nodes."
   ]
  },
  {
   "cell_type": "code",
   "execution_count": 63,
   "metadata": {},
   "outputs": [
    {
     "name": "stdout",
     "output_type": "stream",
     "text": [
      "['Brussels', 'Berlin', 'Wien', 'Budapest', 'Belgrade']\n",
      "['Brussels', 'Amsterdam', 'Wien', 'Budapest', 'Belgrade']\n",
      "['Brussels', 'Frankfurt', 'Wien', 'Budapest', 'Belgrade']\n"
     ]
    }
   ],
   "source": [
    "def get_neighbors_path(G, path):\n",
    "\n",
    "    index = np.random.randint(1,len(path)-1) \n",
    "    new_city = G.neighbors(path[index])\n",
    "    \n",
    "    neighbor_paths = []\n",
    "    for city in new_city:\n",
    "        if city in path:\n",
    "            continue\n",
    "        neighbor = path[:index] + [city] + path[index +1:]\n",
    "        neighbor_paths.append(neighbor)\n",
    "    \n",
    "    return neighbor_paths\n",
    "\n",
    "neighbors = get_neighbors_path(G, path)\n",
    "for n in neighbors:\n",
    "    print(n)"
   ]
  },
  {
   "cell_type": "markdown",
   "metadata": {},
   "source": [
    "Next, we need to check if the neighbor_path is a path that is possible within the travel time."
   ]
  },
  {
   "cell_type": "code",
   "execution_count": 64,
   "metadata": {},
   "outputs": [
    {
     "name": "stdout",
     "output_type": "stream",
     "text": [
      "True 8\n",
      "False 0\n",
      "True 5\n"
     ]
    }
   ],
   "source": [
    "def shortest_path(G, source, target, weight=\"time\"):\n",
    "    path = nx.shortest_path(G, source=source, target=target, weight=weight)\n",
    "    time_sum = sum([G.edges[path[i], path[i+1]][\"time\"] for i in range(len(path)-1)])\n",
    "    return path, time_sum\n",
    "\n",
    "def check_proposed_path(G, proposed_path, travel_day_max_time):\n",
    "    \"\"\"\n",
    "    Check if a proposed path is valid\n",
    "    \"\"\"\n",
    "    for i, j in zip(proposed_path[:-1], proposed_path[1:]):\n",
    "        #check if i and j are neighbors or if shortest path is less than travel_day_max_time\n",
    "        _, time = shortest_path(G, i, j)\n",
    "\n",
    "        if j in G.neighbors(i) or time < travel_day_max_time:\n",
    "            continue\n",
    "        else:\n",
    "             return False\n",
    "    return True\n",
    "\n",
    "def get_path_score(G, path):\n",
    "    if check_proposed_path(G, path, travel_day_max_time):\n",
    "        return sum([G.nodes[city][\"score\"] for city in path[1:-1]])\n",
    "    else: \n",
    "        return 0\n",
    "\n",
    "for n in neighbors:\n",
    "    print(check_proposed_path(G, n, travel_day_max_time), get_path_score(G, n))"
   ]
  },
  {
   "cell_type": "markdown",
   "metadata": {},
   "source": [
    "### SA algorithm"
   ]
  },
  {
   "cell_type": "code",
   "execution_count": 65,
   "metadata": {},
   "outputs": [],
   "source": [
    "def simulated_annealing(G, f, x0, hyperparameters):\n",
    "    \"\"\"\n",
    "    Simple simulated annealing for a one-dimensional continous problem\n",
    "    Inputs:\n",
    "        - f : function to be optimized\n",
    "        - x0 : starting point (float)\n",
    "        - hyperparameters: dict with\n",
    "                * Tmax : maximum (starting) temperature\n",
    "                * Tmin : minimum (stopping) temperature\n",
    "                * sigma : standard deviation for sampling a neighbor\n",
    "                * r : rate of cooling\n",
    "                * NT : number of iterations with fixed temperature --> how many neighbours you choose\n",
    "    Outputs:\n",
    "            - xstar : obtained minimum\n",
    "            - xpath : path of x-values explored\n",
    "            - fbest : best function values in each iteration\n",
    "            - temperatures : the temperature of each iteration\n",
    "    \"\"\"\n",
    "    # get hyperparameters\n",
    "    Tmax = hyperparameters['Tmax']\n",
    "    Tmin = hyperparameters['Tmin']\n",
    "    r = hyperparameters['r']\n",
    "    NT = hyperparameters['NT']\n",
    "\n",
    "    # init outputs\n",
    "    x = x0.copy() #current x\n",
    "    temp = Tmax\n",
    "    xstar = x.copy() #maximum x\n",
    "    fstar = f(G, xstar) #maximum score\n",
    "    xpaths = [x.copy()]\n",
    "    fpaths = [fstar]\n",
    "    temperatures = [temp]\n",
    "\n",
    "    while temp > Tmin:\n",
    "        for i in range(NT):\n",
    "            neighbor_paths = get_neighbors_path(G, xstar)\n",
    "\n",
    "            for neighbor in neighbor_paths:\n",
    "                fnew = f(G, neighbor)\n",
    "                if fnew > fstar and fnew > 0:\n",
    "                    xstar= neighbor.copy()\n",
    "                    fstar = fnew\n",
    "                elif  np.exp((-fstar+fnew)/temp*5) > np.random.rand():\n",
    "                    xstar= neighbor.copy()\n",
    "                    fstar= fnew\n",
    "\n",
    "                xpaths.append(xstar.copy())\n",
    "                fpaths.append(fstar)                            \n",
    "                temperatures.append(temp)\n",
    "                temp *= r\n",
    "\n",
    "    return xstar, xpaths, fpaths, temperatures"
   ]
  },
  {
   "cell_type": "code",
   "execution_count": 66,
   "metadata": {},
   "outputs": [
    {
     "name": "stdout",
     "output_type": "stream",
     "text": [
      "[0, 0, 0, 3, 3, 3, 3, 3, 5, 5, 5, 5, 5, 5, 8, 8, 8, 8, 8, 8, 8, 8, 8, 8, 8, 8, 8, 8, 8, 8, 8, 8, 8, 8, 8, 8, 8, 8, 8, 8, 8, 8, 8, 8, 8, 8, 8, 8, 8, 8, 8, 8, 8, 8, 8, 8, 8, 8, 8, 8, 8, 8, 8, 8, 8, 8, 8, 8, 8, 8, 8, 8, 8, 8, 8, 8, 8, 8, 8, 8, 8, 8, 8, 8, 8, 8, 8, 8, 8, 8, 8, 8, 8, 8, 8, 8, 8, 8, 8, 8, 8, 8, 8, 8, 8, 8, 8, 8, 8, 8, 8, 8, 8, 8, 8, 8, 8, 8, 8, 8, 8, 8, 8, 8]\n",
      "['Brussels', 'Berlin', 'Wien', 'Budapest', 'Belgrade']\n"
     ]
    }
   ],
   "source": [
    "hyperparameters = {'Tmax' : 10, 'Tmin' : 0.1, 'r' : 0.95, 'NT' : 20}    \n",
    "\n",
    "P = find_single_path(G, source=start, target=end, travel_days=4,  travel_day_max_time = travel_day_max_time)\n",
    "\n",
    "xstar, xpaths, fpaths, temperatures = simulated_annealing(G, f=get_path_score, x0=P, hyperparameters=hyperparameters)\n",
    "\n",
    "print(fpaths)\n",
    "print(xstar)"
   ]
  },
  {
   "cell_type": "code",
   "execution_count": 67,
   "metadata": {},
   "outputs": [
    {
     "data": {
      "image/png": "[encoded data removed]",
      "text/plain": [
       "<Figure size 1500x500 with 2 Axes>"
      ]
     },
     "metadata": {},
     "output_type": "display_data"
    }
   ],
   "source": [
    "from matplotlib import pyplot as plt\n",
    "\n",
    "fig, ( ax1,ax2) = plt.subplots(ncols=2,figsize=(15, 5))\n",
    "\n",
    "ax1.plot(fpaths, color=\"red\")\n",
    "ax1.set_xlabel('iteration')\n",
    "ax1.set_ylabel('best function value')\n",
    "\n",
    "ax2.plot(temperatures, color=\"black\")\n",
    "ax2.set_xlabel('iteration')\n",
    "ax2.set_ylabel('temperature')\n",
    "\n",
    "plt.show()"
   ]
  },
  {
   "cell_type": "markdown",
   "metadata": {},
   "source": [
    "### Final result\n",
    "\n",
    "For this, we run the algorithm multiple times, to get the best paths found by the algorithm. It is possible that the algorithm gets stuck sometimes in a local maximum and returns a path that does not exist. We keep only those paths that do exist."
   ]
  },
  {
   "cell_type": "code",
   "execution_count": 68,
   "metadata": {},
   "outputs": [
    {
     "name": "stdout",
     "output_type": "stream",
     "text": [
      "('Brussels', 'Berlin', 'Wien', 'Budapest', 'Belgrade') 8\n",
      "('Brussels', 'Berlin', 'Krakow', 'Budapest', 'Belgrade') 8\n"
     ]
    }
   ],
   "source": [
    "myset = set()\n",
    "\n",
    "for i in range(20):\n",
    "    P = find_single_path(G, source=start, target=end, travel_days=4,  travel_day_max_time = travel_day_max_time)\n",
    "    xstar, xpaths, fpaths, temperatures = simulated_annealing(G, f=get_path_score, x0=P, hyperparameters=hyperparameters)\n",
    "    # add the list xstar to myset\n",
    "    myset.add(tuple(xstar))\n",
    "\n",
    "\n",
    "for path in myset:\n",
    "    if check_proposed_path(G, path, travel_day_max_time):\n",
    "        print(path, get_path_score(G, path))\n",
    "    "
   ]
  }
 ],
 "metadata": {
  "kernelspec": {
   "display_name": "env",
   "language": "python",
   "name": "python3"
  },
  "language_info": {
   "codemirror_mode": {
    "name": "ipython",
    "version": 3
   },
   "file_extension": ".py",
   "mimetype": "text/x-python",
   "name": "python",
   "nbconvert_exporter": "python",
   "pygments_lexer": "ipython3",
   "version": "3.11.5"
  }
 },
 "nbformat": 4,
 "nbformat_minor": 2
}
